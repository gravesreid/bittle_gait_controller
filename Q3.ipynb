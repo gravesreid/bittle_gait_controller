{
 "cells": [
  {
   "cell_type": "markdown",
   "id": "a23aae7b",
   "metadata": {},
   "source": [
    "## Q3 (5 pts)\n",
    "\n",
    "Please fill out the following project form (one per group). This will primarily be for the TAs to use to understand what you are working on and hopefully be able to better assist you. If you haven't decided on certain aspects of the project, just include what you are currently thinking/what decisions you need to make."
   ]
  },
  {
   "cell_type": "markdown",
   "id": "7674d43c",
   "metadata": {},
   "source": [
    "\n",
    "**(1) Write down your dynamics (handwritten, code, or latex). This can be continuous-time (include how you are discretizing your system) or discrete-time.**"
   ]
  },
  {
   "cell_type": "markdown",
   "id": "c2a65763",
   "metadata": {},
   "source": []
  },
  {
   "cell_type": "markdown",
   "id": "a354260d",
   "metadata": {},
   "source": [
    "**(2) What is your state (what does each variable represent)?**"
   ]
  },
  {
   "cell_type": "markdown",
   "id": "44a79fa4",
   "metadata": {},
<<<<<<< HEAD
   "source": []
=======
   "source": [
    "$$\n",
    "x = \n",
    "\\begin{bmatrix}\n",
    "q_w \\\\\n",
    "q_x \\\\\n",
    "q_y \\\\\n",
    "q_z \\\\\n",
    "a_x \\\\\n",
    "a_y \\\\\n",
    "a_z \\\\\n",
    "p_{cx} \\\\\n",
    "p_{cy} \n",
    "\\end{bmatrix}\n",
    "$$\n",
    "where:\n",
    "$q_w,q_x,q_y,q_z$ refers to the quaternions for orientation, $a_x,a_y,a_z$ refers to the acceleration in the $x,y$ and $z$ directions in the robots frame of motion, and $p_{cx}, p_{cy}$ are the projection of the center of mass into the plane created by the support polygon formed by three legs in contact. The quaternions and acceleration are directly measured, and the projection coordinates are determined by the joint angles, which are decision variables."
   ]
>>>>>>> 8daafa5d274efd6a588f48ba2e99c83ffe40b691
  },
  {
   "cell_type": "markdown",
   "id": "b5182ec6",
   "metadata": {},
   "source": [
    "**(3) What is your control (what does each variable represent)?**"
   ]
  },
  {
   "cell_type": "markdown",
   "id": "679724a4",
   "metadata": {},
<<<<<<< HEAD
   "source": []
=======
   "source": [
    "$$\n",
    "u = \\begin{bmatrix}\n",
    "\\theta_0 \\\\\n",
    "\\theta_1 \\\\\n",
    "\\theta_2 \\\\\n",
    "\\theta_3 \\\\\n",
    "\\theta_4 \\\\\n",
    "\\theta_5 \\\\\n",
    "\\theta_6 \\\\\n",
    "\\theta_7\n",
    "\\end{bmatrix}\n",
    "$$\n",
    "\n",
    "where $\\theta_{0-7}$ represent the joint angles of the robot."
   ]
>>>>>>> 8daafa5d274efd6a588f48ba2e99c83ffe40b691
  },
  {
   "cell_type": "markdown",
   "id": "1ab1ee48",
   "metadata": {},
   "source": [
    "**(4) Briefly describe your goal for the project. What are you trying to make the system do? Specify whether you are doing control, trajectory optimization, both, or something else.**"
   ]
  },
  {
   "cell_type": "markdown",
   "id": "792fedf6",
   "metadata": {},
<<<<<<< HEAD
   "source": []
=======
   "source": [
    "Given an esp32 based quadruped robot, the Petoi Bittle robot, we want to use trajectory optimization and control to create closed loop gaits for locomotion. The robot has existing open loop gaits, but these are not optimal and rely on sliding the feet across the floor to maintain stability this presents a problem anytime the surface the robot is walking on is smooth, like hardwood or tile floor. The only sensor we have access to is the IMU, which presents a unique challenge. If we restrict ourselves to crawling motions, then this allows us to rely on the polygon (or triangle) of stability, then we have something we can optimize- the stability margin of the projection of the robot center of mass into this polygon created by three legs that we assume are in contact. So the general idea is to have a schedule for the order of foot movement, and then determine the optimal joint angles for the maximal stability margin, and then the free leg can take a step forward. So there are two main components here:\n",
    "1) Determine the optimal joint angles for maximal stability- Optimization problem\n",
    "2) A controller that adjusts the three legs in contact with the ground to maintain stability while the free leg is moving to the next step"
   ]
>>>>>>> 8daafa5d274efd6a588f48ba2e99c83ffe40b691
  },
  {
   "cell_type": "markdown",
   "id": "3b646102",
   "metadata": {},
   "source": [
    "**(5) What are your costs?**"
   ]
  },
  {
   "cell_type": "markdown",
   "id": "de84db11",
   "metadata": {},
<<<<<<< HEAD
   "source": []
=======
   "source": [
    "The stability margin for the projection of the center of mass into the support polygon."
   ]
>>>>>>> 8daafa5d274efd6a588f48ba2e99c83ffe40b691
  },
  {
   "cell_type": "markdown",
   "id": "368c8b17",
   "metadata": {},
   "source": [
    "**(6) What are your constraints?**"
   ]
  },
  {
   "cell_type": "markdown",
   "id": "4da33bfd",
   "metadata": {},
<<<<<<< HEAD
   "source": []
=======
   "source": [
    "Joint angle limits, joints only have degrees of freedom in the x-z plane."
   ]
>>>>>>> 8daafa5d274efd6a588f48ba2e99c83ffe40b691
  },
  {
   "cell_type": "markdown",
   "id": "a0b8ffd2",
   "metadata": {},
   "source": [
    "**(7) What solution methods are you going to try?**\n"
   ]
  },
  {
   "cell_type": "markdown",
   "id": "3188e8af",
   "metadata": {},
   "source": []
  },
  {
   "cell_type": "markdown",
   "id": "7f8d9a7d",
   "metadata": {},
   "source": [
    "**(8) What have you tried so far?**"
   ]
  },
  {
   "cell_type": "markdown",
   "id": "e8bbf4ae",
   "metadata": {},
   "source": []
  },
  {
   "cell_type": "markdown",
   "id": "e6eca77f",
   "metadata": {},
   "source": [
    "**(9) If applicable, what are you currently running into issues with?**"
   ]
  },
  {
   "cell_type": "markdown",
   "id": "e7cfc4f1",
   "metadata": {},
   "source": []
  },
  {
   "cell_type": "markdown",
   "id": "aed4e1da",
   "metadata": {},
   "source": [
    "**(10) If your system doesn't fit with some of the questions above or there are additional things you'd like to elaborate on, please explain/do that here.**"
   ]
  },
  {
   "cell_type": "markdown",
   "id": "74f51a99",
   "metadata": {},
   "source": []
  }
 ],
 "metadata": {
  "kernelspec": {
   "display_name": "Julia 1.6.7",
   "language": "julia",
   "name": "julia-1.6"
  },
  "language_info": {
   "file_extension": ".jl",
   "mimetype": "application/julia",
   "name": "julia",
   "version": "1.6.7"
  }
 },
 "nbformat": 4,
 "nbformat_minor": 5
}
